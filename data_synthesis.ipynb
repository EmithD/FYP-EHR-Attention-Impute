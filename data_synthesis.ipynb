{
 "cells": [
  {
   "cell_type": "code",
   "execution_count": 1,
   "metadata": {},
   "outputs": [],
   "source": [
    "import numpy as np\n",
    "import pandas as pd\n",
    "import torch\n",
    "from datetime import datetime, timedelta\n",
    "import random\n",
    "from faker import Faker\n",
    "from tqdm import tqdm"
   ]
  },
  {
   "cell_type": "code",
   "execution_count": null,
   "metadata": {},
   "outputs": [],
   "source": [
    "# Establishing seeds to ensure reproducability\n",
    "np.random.seed(42)\n",
    "torch.manual_seed(42)\n",
    "random.seed(42)"
   ]
  },
  {
   "cell_type": "code",
   "execution_count": 3,
   "metadata": {},
   "outputs": [],
   "source": [
    "fake = Faker()\n",
    "\n",
    "# utilizing the GPU\n",
    "device = torch.device('cuda' if torch.cuda.is_available() else 'cpu')"
   ]
  },
  {
   "cell_type": "code",
   "execution_count": 11,
   "metadata": {},
   "outputs": [],
   "source": [
    "def generate_vital_signs():\n",
    "    \"\"\"Generate realistic vital signs\"\"\"\n",
    "    return {\n",
    "        'temperature': round(np.random.normal(37.0, 0.4), 1),\n",
    "        'heart_rate': int(np.random.normal(75, 12)),\n",
    "        'blood_pressure_systolic': int(np.random.normal(120, 10)),\n",
    "        'blood_pressure_diastolic': int(np.random.normal(80, 8)),\n",
    "        'respiratory_rate': int(np.random.normal(16, 2)),\n",
    "        'oxygen_saturation': int(np.random.normal(97, 2))\n",
    "    }\n",
    "    \n",
    "def generate_lab_results():\n",
    "    \"\"\"Generate synthetic lab results\"\"\"\n",
    "    return {\n",
    "        'wbc_count': round(np.random.normal(7.5, 2), 1),\n",
    "        'rbc_count': round(np.random.normal(4.5, 0.5), 1),\n",
    "        'hemoglobin': round(np.random.normal(14, 1.5), 1),\n",
    "        'hematocrit': round(np.random.normal(42, 4), 1),\n",
    "        'platelet_count': int(np.random.normal(250000, 50000)),\n",
    "        'sodium': int(np.random.normal(140, 3)),\n",
    "        'potassium': round(np.random.normal(4.0, 0.4), 1),\n",
    "        'chloride': int(np.random.normal(102, 3)),\n",
    "        'glucose': int(np.random.normal(100, 15))\n",
    "    }\n",
    "    \n",
    "# ICD-10 codes for medical conditions\n",
    "conditions = {\n",
    "    'I10': 'Essential hypertension',\n",
    "    'E11.9': 'Type 2 diabetes without complications',\n",
    "    'J44.9': 'COPD',\n",
    "    'I25.10': 'Coronary artery disease',\n",
    "    'F41.1': 'Generalized anxiety disorder',\n",
    "    'F32.9': 'Major depressive disorder',\n",
    "    'M17.9': 'Osteoarthritis',\n",
    "    'E78.5': 'Dyslipidemia',\n",
    "    'N18.3': 'Chronic kidney disease, stage 3',\n",
    "    'G47.33': 'Obstructive sleep apnea'\n",
    "}\n",
    "\n",
    "medications = [\n",
    "    'Lisinopril 10mg',\n",
    "    'Metformin 500mg',\n",
    "    'Atorvastatin 40mg',\n",
    "    'Amlodipine 5mg',\n",
    "    'Metoprolol 25mg',\n",
    "    'Sertraline 50mg',\n",
    "    'Omeprazole 20mg',\n",
    "    'Levothyroxine 50mcg',\n",
    "    'Hydrochlorothiazide 25mg',\n",
    "    'Aspirin 81mg'\n",
    "]"
   ]
  },
  {
   "cell_type": "code",
   "execution_count": 7,
   "metadata": {},
   "outputs": [],
   "source": [
    "def generate_synthetic_ehr(num_patients):\n",
    "    \"\"\"Generate synthetic EHR dataset\"\"\"\n",
    "    \n",
    "    records = []\n",
    "    \n",
    "    print(\"Generating synthetic EHR records...\")\n",
    "    for _ in tqdm(range(num_patients)):\n",
    "        # Generate basic patient information\n",
    "        patient_id = fake.uuid4()\n",
    "        dob = fake.date_of_birth(minimum_age=18, maximum_age=90)\n",
    "        gender = random.choice(['M', 'F'])\n",
    "        \n",
    "        # Generate multiple visits for each patient\n",
    "        num_visits = random.randint(1, 10)\n",
    "        \n",
    "        for visit in range(num_visits):\n",
    "            visit_date = fake.date_between(\n",
    "                start_date=datetime(2020, 1, 1),\n",
    "                end_date=datetime(2024, 1, 1)\n",
    "            )\n",
    "            \n",
    "            # Generate vital signs and lab results\n",
    "            vitals = generate_vital_signs()\n",
    "            labs = generate_lab_results()\n",
    "            \n",
    "            # Assign random conditions (1-4 conditions per visit)\n",
    "            patient_conditions = random.sample(list(conditions.items()), \n",
    "                                            random.randint(1, 4))\n",
    "            \n",
    "            # Assign random medications (1-5 medications per visit)\n",
    "            patient_medications = random.sample(medications, \n",
    "                                             random.randint(1, 5))\n",
    "            \n",
    "            # Create record\n",
    "            record = {\n",
    "                'patient_id': patient_id,\n",
    "                'visit_id': fake.uuid4(),\n",
    "                'visit_date': visit_date,\n",
    "                'date_of_birth': dob,\n",
    "                'gender': gender,\n",
    "                'age_at_visit': (visit_date.year - dob.year - \n",
    "                               ((visit_date.month, visit_date.day) < \n",
    "                                (dob.month, dob.day))),\n",
    "                'diagnoses': [{'code': code, 'description': desc} \n",
    "                            for code, desc in patient_conditions],\n",
    "                'medications': patient_medications,\n",
    "                **vitals,\n",
    "                **labs\n",
    "            }\n",
    "            \n",
    "            records.append(record)\n",
    "    \n",
    "    # Convert to DataFrame\n",
    "    df = pd.json_normalize(records, \n",
    "                         sep='_',\n",
    "                         record_path=['diagnoses'],\n",
    "                         meta=['patient_id', 'visit_id', 'visit_date', \n",
    "                               'date_of_birth', 'gender', 'age_at_visit',\n",
    "                               'medications',\n",
    "                               'temperature', 'heart_rate', \n",
    "                               'blood_pressure_systolic',\n",
    "                               'blood_pressure_diastolic',\n",
    "                               'respiratory_rate', 'oxygen_saturation',\n",
    "                               'wbc_count', 'rbc_count', 'hemoglobin',\n",
    "                               'hematocrit', 'platelet_count', 'sodium',\n",
    "                               'potassium', 'chloride', 'glucose'])\n",
    "    \n",
    "    return df"
   ]
  },
  {
   "cell_type": "code",
   "execution_count": 8,
   "metadata": {},
   "outputs": [
    {
     "name": "stdout",
     "output_type": "stream",
     "text": [
      "Generating synthetic EHR records...\n"
     ]
    },
    {
     "name": "stderr",
     "output_type": "stream",
     "text": [
      "100%|██████████| 10000/10000 [00:03<00:00, 2674.22it/s]\n"
     ]
    }
   ],
   "source": [
    "dataset_size = 10000  # 10,000 patients\n",
    "df = generate_synthetic_ehr(dataset_size)"
   ]
  },
  {
   "cell_type": "code",
   "execution_count": 9,
   "metadata": {},
   "outputs": [
    {
     "name": "stdout",
     "output_type": "stream",
     "text": [
      "Generated 138136 records for 10000 patients\n"
     ]
    }
   ],
   "source": [
    "df.to_csv('synthetic_ehr_dataset.csv', index=False)\n",
    "print(f\"Generated {len(df)} records for {dataset_size} patients\")"
   ]
  },
  {
   "cell_type": "code",
   "execution_count": null,
   "metadata": {},
   "outputs": [],
   "source": []
  }
 ],
 "metadata": {
  "kernelspec": {
   "display_name": "base",
   "language": "python",
   "name": "python3"
  },
  "language_info": {
   "codemirror_mode": {
    "name": "ipython",
    "version": 3
   },
   "file_extension": ".py",
   "mimetype": "text/x-python",
   "name": "python",
   "nbconvert_exporter": "python",
   "pygments_lexer": "ipython3",
   "version": "3.12.4"
  }
 },
 "nbformat": 4,
 "nbformat_minor": 2
}
