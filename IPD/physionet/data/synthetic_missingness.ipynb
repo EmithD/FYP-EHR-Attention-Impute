{
 "cells": [
  {
   "cell_type": "code",
   "execution_count": 14,
   "metadata": {},
   "outputs": [],
   "source": [
    "import pandas as pd\n",
    "import numpy as np\n",
    "from pyampute.ampute import MultivariateAmputation"
   ]
  },
  {
   "cell_type": "code",
   "execution_count": 15,
   "metadata": {},
   "outputs": [],
   "source": [
    "def introduce_missingness(csv_path):\n",
    "    # Load the dataset\n",
    "    data = pd.read_csv(csv_path, index_col=0)\n",
    "\n",
    "    print(\"Original Data:\\n\", data.head())\n",
    "\n",
    "    # Define different missingness levels\n",
    "    missingness_levels = [0.1, 0.2, 0.3, 0.4, 0.5]\n",
    "\n",
    "    for level in missingness_levels:\n",
    "        print(f\"\\nApplying {int(level * 100)}% missingness:\")\n",
    "\n",
    "        # MCAR: Missing Completely At Random\n",
    "        mcar_amputer = MultivariateAmputation(\n",
    "            prop=level,\n",
    "            patterns=[{\n",
    "                \"incomplete_vars\": data.columns.tolist(),\n",
    "                \"weights\": np.zeros(len(data.columns)),\n",
    "                \"mechanism\": \"MCAR\",\n",
    "                \"score_to_probability_func\": \"sigmoid-right\"\n",
    "            }],\n",
    "        )\n",
    "        mcar_data = mcar_amputer.fit_transform(data.copy())\n",
    "        mcar_df = pd.DataFrame(mcar_data, columns=data.columns)\n",
    "        mcar_df.to_csv(f\"MCAR_{int(level * 100)}.csv\", index=False)\n",
    "        print(f\"MCAR dataset saved as MCAR_{int(level * 100)}.csv\")\n",
    "\n",
    "        # MAR: Missing At Random\n",
    "        mar_incomplete_vars = data.columns[:len(data.columns)//2].tolist()\n",
    "        mar_observed_vars = data.columns[len(data.columns)//2:].tolist()\n",
    "        mar_amputer = MultivariateAmputation(\n",
    "            prop=level,\n",
    "            patterns=[{\n",
    "                \"incomplete_vars\": mar_incomplete_vars,\n",
    "                \"weights\": [1 if col in mar_observed_vars else 0 for col in data.columns],\n",
    "                \"mechanism\": \"MAR\",\n",
    "                \"score_to_probability_func\": \"sigmoid-right\"\n",
    "            }],\n",
    "        )\n",
    "        mar_data = mar_amputer.fit_transform(data.copy())\n",
    "        mar_df = pd.DataFrame(mar_data, columns=data.columns)\n",
    "        mar_df.to_csv(f\"MAR_{int(level * 100)}.csv\", index=False)\n",
    "        print(f\"MAR dataset saved as MAR_{int(level * 100)}.csv\")\n",
    "\n",
    "        # MNAR: Missing Not At Random\n",
    "        mnar_incomplete_vars = data.columns[len(data.columns)//2:].tolist()\n",
    "        mnar_amputer = MultivariateAmputation(\n",
    "            prop=level,\n",
    "            patterns=[{\n",
    "                \"incomplete_vars\": mnar_incomplete_vars,\n",
    "                \"weights\": [1 if col in mnar_incomplete_vars else 0 for col in data.columns],\n",
    "                \"mechanism\": \"MNAR\",\n",
    "                \"score_to_probability_func\": \"sigmoid-right\"\n",
    "            }],\n",
    "            \n",
    "        )\n",
    "        mnar_data = mnar_amputer.fit_transform(data.copy())\n",
    "        mnar_df = pd.DataFrame(mnar_data, columns=data.columns)\n",
    "        mnar_df.to_csv(f\"MNAR_{int(level * 100)}.csv\", index=False)\n",
    "        print(f\"MNAR dataset saved as MNAR_{int(level * 100)}.csv\")"
   ]
  },
  {
   "cell_type": "code",
   "execution_count": 16,
   "metadata": {},
   "outputs": [
    {
     "name": "stderr",
     "output_type": "stream",
     "text": [
      "2025-01-26 04:48:30,831 [WARNING] Failed to load lookup table for a prespecified score to probability function. It is possible data\\shift_lookup.csv is missing, in the wrong location, or corrupted. Try rerunning scripts/generate_shift_lookup_table.py to regenerate the lookup table.\n"
     ]
    },
    {
     "name": "stderr",
     "output_type": "stream",
     "text": [
      "2025-01-26 04:48:30,883 [WARNING] Failed to load lookup table for a prespecified score to probability function. It is possible data\\shift_lookup.csv is missing, in the wrong location, or corrupted. Try rerunning scripts/generate_shift_lookup_table.py to regenerate the lookup table.\n",
      "2025-01-26 04:48:30,887 [WARNING] Binary variables (at indices [24]) are indicated to be used in amputation (they are weighted and will be used to calculate the weighted sum score under MAR, MNAR, or MAR+MNAR). This can result in a subset with candidates that all have the same (or almost the same) weighted sum scores. \n",
      "2025-01-26 04:48:30,928 [WARNING] Failed to load lookup table for a prespecified score to probability function. It is possible data\\shift_lookup.csv is missing, in the wrong location, or corrupted. Try rerunning scripts/generate_shift_lookup_table.py to regenerate the lookup table.\n",
      "2025-01-26 04:48:30,933 [WARNING] Binary variables (at indices [24]) are indicated to be used in amputation (they are weighted and will be used to calculate the weighted sum score under MAR, MNAR, or MAR+MNAR). This can result in a subset with candidates that all have the same (or almost the same) weighted sum scores. \n",
      "2025-01-26 04:48:30,991 [WARNING] Failed to load lookup table for a prespecified score to probability function. It is possible data\\shift_lookup.csv is missing, in the wrong location, or corrupted. Try rerunning scripts/generate_shift_lookup_table.py to regenerate the lookup table.\n"
     ]
    },
    {
     "name": "stdout",
     "output_type": "stream",
     "text": [
      "Original Data:\n",
      "             re.admission.within.6.months  \\\n",
      "Unnamed: 0                                 \n",
      "1                                      0   \n",
      "2                                      0   \n",
      "3                                      0   \n",
      "4                                      1   \n",
      "5                                      0   \n",
      "\n",
      "            return.to.emergency.department.within.6.months  \\\n",
      "Unnamed: 0                                                   \n",
      "1                                                      0.0   \n",
      "2                                                      0.0   \n",
      "3                                                      0.0   \n",
      "4                                                      1.0   \n",
      "5                                                      0.0   \n",
      "\n",
      "            re.admission.within.3.months  re.admission.within.28.days  \\\n",
      "Unnamed: 0                                                              \n",
      "1                                      0                            0   \n",
      "2                                      0                            0   \n",
      "3                                      0                            0   \n",
      "4                                      1                            1   \n",
      "5                                      0                            0   \n",
      "\n",
      "            death.within.6.months  death.within.3.months  dischargeDay  \\\n",
      "Unnamed: 0                                                               \n",
      "1                               0                      0            11   \n",
      "2                               0                      0             8   \n",
      "3                               0                      0             5   \n",
      "4                               0                      0            11   \n",
      "5                               0                      0             5   \n",
      "\n",
      "            death.within.28.days  uric.acid  glomerular.filtration.rate  ...  \\\n",
      "Unnamed: 0                                                               ...   \n",
      "1                              0      685.0                       58.57  ...   \n",
      "2                              0      170.0                       85.43  ...   \n",
      "3                              0      567.0                       31.51  ...   \n",
      "4                              0      635.0                       58.01  ...   \n",
      "5                              0      432.0                       60.52  ...   \n",
      "\n",
      "            eye.opening  visit.times  creatinine.enzymatic.method  hematocrit  \\\n",
      "Unnamed: 0                                                                      \n",
      "1                     4            1                        108.3       0.387   \n",
      "2                     4            1                         62.0       0.349   \n",
      "3                     4            2                        185.1       0.427   \n",
      "4                     4            1                        104.8       0.277   \n",
      "5                     4            1                         83.9       0.378   \n",
      "\n",
      "            GCS  \\\n",
      "Unnamed: 0        \n",
      "1            15   \n",
      "2            15   \n",
      "3            15   \n",
      "4            15   \n",
      "5            15   \n",
      "\n",
      "            coefficient.of.variation.of.red.blood.cell.distribution.width  \\\n",
      "Unnamed: 0                                                                  \n",
      "1                                                        15.0               \n",
      "2                                                        13.0               \n",
      "3                                                        12.9               \n",
      "4                                                        18.8               \n",
      "5                                                        14.7               \n",
      "\n",
      "            verbal.response  fio2  eosinophil.ratio  high.sensitivity.troponin  \n",
      "Unnamed: 0                                                                      \n",
      "1                         5    33             0.002                      0.094  \n",
      "2                         5    33             0.009                      0.017  \n",
      "3                         5    33             0.002                      0.010  \n",
      "4                         5    33             0.028                      0.349  \n",
      "5                         5    33             0.008                      0.115  \n",
      "\n",
      "[5 rows x 39 columns]\n",
      "\n",
      "Applying 10% missingness:\n",
      "MCAR dataset saved as MCAR_10.csv\n",
      "MAR dataset saved as MAR_10.csv\n",
      "MNAR dataset saved as MNAR_10.csv\n",
      "\n",
      "Applying 20% missingness:\n"
     ]
    },
    {
     "name": "stderr",
     "output_type": "stream",
     "text": [
      "2025-01-26 04:48:31,054 [WARNING] Failed to load lookup table for a prespecified score to probability function. It is possible data\\shift_lookup.csv is missing, in the wrong location, or corrupted. Try rerunning scripts/generate_shift_lookup_table.py to regenerate the lookup table.\n",
      "2025-01-26 04:48:31,058 [WARNING] Binary variables (at indices [24]) are indicated to be used in amputation (they are weighted and will be used to calculate the weighted sum score under MAR, MNAR, or MAR+MNAR). This can result in a subset with candidates that all have the same (or almost the same) weighted sum scores. \n",
      "2025-01-26 04:48:31,101 [WARNING] Failed to load lookup table for a prespecified score to probability function. It is possible data\\shift_lookup.csv is missing, in the wrong location, or corrupted. Try rerunning scripts/generate_shift_lookup_table.py to regenerate the lookup table.\n",
      "2025-01-26 04:48:31,104 [WARNING] Binary variables (at indices [24]) are indicated to be used in amputation (they are weighted and will be used to calculate the weighted sum score under MAR, MNAR, or MAR+MNAR). This can result in a subset with candidates that all have the same (or almost the same) weighted sum scores. \n",
      "2025-01-26 04:48:31,152 [WARNING] Failed to load lookup table for a prespecified score to probability function. It is possible data\\shift_lookup.csv is missing, in the wrong location, or corrupted. Try rerunning scripts/generate_shift_lookup_table.py to regenerate the lookup table.\n",
      "2025-01-26 04:48:31,229 [WARNING] Failed to load lookup table for a prespecified score to probability function. It is possible data\\shift_lookup.csv is missing, in the wrong location, or corrupted. Try rerunning scripts/generate_shift_lookup_table.py to regenerate the lookup table.\n",
      "2025-01-26 04:48:31,232 [WARNING] Binary variables (at indices [24]) are indicated to be used in amputation (they are weighted and will be used to calculate the weighted sum score under MAR, MNAR, or MAR+MNAR). This can result in a subset with candidates that all have the same (or almost the same) weighted sum scores. \n"
     ]
    },
    {
     "name": "stdout",
     "output_type": "stream",
     "text": [
      "MCAR dataset saved as MCAR_20.csv\n",
      "MAR dataset saved as MAR_20.csv\n",
      "MNAR dataset saved as MNAR_20.csv\n",
      "\n",
      "Applying 30% missingness:\n",
      "MCAR dataset saved as MCAR_30.csv\n"
     ]
    },
    {
     "name": "stderr",
     "output_type": "stream",
     "text": [
      "2025-01-26 04:48:31,275 [WARNING] Failed to load lookup table for a prespecified score to probability function. It is possible data\\shift_lookup.csv is missing, in the wrong location, or corrupted. Try rerunning scripts/generate_shift_lookup_table.py to regenerate the lookup table.\n",
      "2025-01-26 04:48:31,279 [WARNING] Binary variables (at indices [24]) are indicated to be used in amputation (they are weighted and will be used to calculate the weighted sum score under MAR, MNAR, or MAR+MNAR). This can result in a subset with candidates that all have the same (or almost the same) weighted sum scores. \n",
      "2025-01-26 04:48:31,319 [WARNING] Failed to load lookup table for a prespecified score to probability function. It is possible data\\shift_lookup.csv is missing, in the wrong location, or corrupted. Try rerunning scripts/generate_shift_lookup_table.py to regenerate the lookup table.\n",
      "2025-01-26 04:48:31,361 [WARNING] Failed to load lookup table for a prespecified score to probability function. It is possible data\\shift_lookup.csv is missing, in the wrong location, or corrupted. Try rerunning scripts/generate_shift_lookup_table.py to regenerate the lookup table.\n",
      "2025-01-26 04:48:31,364 [WARNING] Binary variables (at indices [24]) are indicated to be used in amputation (they are weighted and will be used to calculate the weighted sum score under MAR, MNAR, or MAR+MNAR). This can result in a subset with candidates that all have the same (or almost the same) weighted sum scores. \n",
      "2025-01-26 04:48:31,410 [WARNING] Failed to load lookup table for a prespecified score to probability function. It is possible data\\shift_lookup.csv is missing, in the wrong location, or corrupted. Try rerunning scripts/generate_shift_lookup_table.py to regenerate the lookup table.\n",
      "2025-01-26 04:48:31,412 [WARNING] Binary variables (at indices [24]) are indicated to be used in amputation (they are weighted and will be used to calculate the weighted sum score under MAR, MNAR, or MAR+MNAR). This can result in a subset with candidates that all have the same (or almost the same) weighted sum scores. \n",
      "2025-01-26 04:48:31,458 [WARNING] Failed to load lookup table for a prespecified score to probability function. It is possible data\\shift_lookup.csv is missing, in the wrong location, or corrupted. Try rerunning scripts/generate_shift_lookup_table.py to regenerate the lookup table.\n"
     ]
    },
    {
     "name": "stdout",
     "output_type": "stream",
     "text": [
      "MAR dataset saved as MAR_30.csv\n",
      "MNAR dataset saved as MNAR_30.csv\n",
      "\n",
      "Applying 40% missingness:\n",
      "MCAR dataset saved as MCAR_40.csv\n",
      "MAR dataset saved as MAR_40.csv\n",
      "MNAR dataset saved as MNAR_40.csv\n",
      "\n",
      "Applying 50% missingness:\n"
     ]
    },
    {
     "name": "stderr",
     "output_type": "stream",
     "text": [
      "2025-01-26 04:48:31,502 [WARNING] Failed to load lookup table for a prespecified score to probability function. It is possible data\\shift_lookup.csv is missing, in the wrong location, or corrupted. Try rerunning scripts/generate_shift_lookup_table.py to regenerate the lookup table.\n",
      "2025-01-26 04:48:31,505 [WARNING] Binary variables (at indices [24]) are indicated to be used in amputation (they are weighted and will be used to calculate the weighted sum score under MAR, MNAR, or MAR+MNAR). This can result in a subset with candidates that all have the same (or almost the same) weighted sum scores. \n",
      "2025-01-26 04:48:31,545 [WARNING] Failed to load lookup table for a prespecified score to probability function. It is possible data\\shift_lookup.csv is missing, in the wrong location, or corrupted. Try rerunning scripts/generate_shift_lookup_table.py to regenerate the lookup table.\n",
      "2025-01-26 04:48:31,549 [WARNING] Binary variables (at indices [24]) are indicated to be used in amputation (they are weighted and will be used to calculate the weighted sum score under MAR, MNAR, or MAR+MNAR). This can result in a subset with candidates that all have the same (or almost the same) weighted sum scores. \n"
     ]
    },
    {
     "name": "stdout",
     "output_type": "stream",
     "text": [
      "MCAR dataset saved as MCAR_50.csv\n",
      "MAR dataset saved as MAR_50.csv\n",
      "MNAR dataset saved as MNAR_50.csv\n"
     ]
    }
   ],
   "source": [
    "introduce_missingness(\"physionet_wo_missing.csv\")"
   ]
  },
  {
   "cell_type": "code",
   "execution_count": null,
   "metadata": {},
   "outputs": [],
   "source": []
  }
 ],
 "metadata": {
  "kernelspec": {
   "display_name": "base",
   "language": "python",
   "name": "python3"
  },
  "language_info": {
   "codemirror_mode": {
    "name": "ipython",
    "version": 3
   },
   "file_extension": ".py",
   "mimetype": "text/x-python",
   "name": "python",
   "nbconvert_exporter": "python",
   "pygments_lexer": "ipython3",
   "version": "3.12.4"
  }
 },
 "nbformat": 4,
 "nbformat_minor": 2
}
