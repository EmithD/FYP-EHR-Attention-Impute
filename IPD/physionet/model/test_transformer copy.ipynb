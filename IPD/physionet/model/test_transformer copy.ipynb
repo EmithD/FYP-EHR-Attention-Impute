{
 "cells": [
  {
   "cell_type": "code",
   "execution_count": 28,
   "metadata": {},
   "outputs": [
    {
     "name": "stdout",
     "output_type": "stream",
     "text": [
      "Train Tensor Shape: torch.Size([1150, 39])\n",
      "Validation Tensor Shape: torch.Size([128, 39])\n",
      "Test Tensor Shape: torch.Size([320, 39])\n",
      "Device Used: cpu\n"
     ]
    }
   ],
   "source": [
    "import pandas as pd\n",
    "from sklearn.model_selection import train_test_split\n",
    "from sklearn.preprocessing import StandardScaler\n",
    "import torch\n",
    "\n",
    "df = pd.read_csv('../data/physionet_wo_missing.csv', index_col=0)\n",
    "data = df.to_numpy()\n",
    "\n",
    "# First split into train and test\n",
    "train_data, test_data = train_test_split(data, test_size=0.2, random_state=42)\n",
    "\n",
    "# Then split train into train and validation\n",
    "train_data, val_data = train_test_split(train_data, test_size=0.1, random_state=42)\n",
    "\n",
    "scaler = StandardScaler()\n",
    "train_data = scaler.fit_transform(train_data)\n",
    "test_data = scaler.transform(test_data)\n",
    "val_data = scaler.transform(val_data)  # Apply same transformation to validation data\n",
    "\n",
    "device = torch.device('cuda' if torch.cuda.is_available() else 'cpu')\n",
    "\n",
    "train_tensor = torch.tensor(train_data, dtype=torch.float32).to(device)\n",
    "test_tensor = torch.tensor(test_data, dtype=torch.float32).to(device)\n",
    "val_tensor = torch.tensor(val_data, dtype=torch.float32).to(device)  # Create validation tensor\n",
    "\n",
    "# Verify Shapes\n",
    "print(f\"Train Tensor Shape: {train_tensor.shape}\")\n",
    "print(f\"Validation Tensor Shape: {val_tensor.shape}\")\n",
    "print(f\"Test Tensor Shape: {test_tensor.shape}\")\n",
    "print(f\"Device Used: {device}\")"
   ]
  },
  {
   "cell_type": "code",
   "execution_count": 29,
   "metadata": {},
   "outputs": [],
   "source": [
    "import torch\n",
    "import torch.nn as nn\n",
    "import math\n",
    "\n",
    "class EnhancedTransformerModel(nn.Module):\n",
    "    def __init__(self, num_features, d_model=128, num_heads=8, num_layers=3, dropout=0.2, \n",
    "                 ff_dim=512, activation='gelu', use_feature_correlations=True):\n",
    "        super(EnhancedTransformerModel, self).__init__()\n",
    "        \n",
    "        self.d_model = d_model\n",
    "        self.num_features = num_features\n",
    "        self.use_feature_correlations = use_feature_correlations\n",
    "        \n",
    "        # Ensure activation is lowercase for transformer layer\n",
    "        activation_lower = activation.lower()\n",
    "        \n",
    "        # Get activation function for our custom layers\n",
    "        if activation_lower == 'gelu':\n",
    "            activation_fn = nn.GELU()\n",
    "        elif activation_lower == 'relu':\n",
    "            activation_fn = nn.ReLU()\n",
    "        else:\n",
    "            activation_fn = nn.GELU()  # Default to GELU\n",
    "        \n",
    "        # Initial value embedding (expanded)\n",
    "        self.value_embedding = nn.Sequential(\n",
    "            nn.Linear(1, d_model // 2),\n",
    "            nn.LayerNorm(d_model // 2),\n",
    "            activation_fn,\n",
    "            nn.Dropout(dropout),\n",
    "            nn.Linear(d_model // 2, d_model),\n",
    "            nn.LayerNorm(d_model)\n",
    "        )\n",
    "        \n",
    "        # Column positional embedding with more capacity\n",
    "        self.column_embedding = nn.Embedding(num_features, d_model)\n",
    "        \n",
    "        # Feature correlation matrix (learned)\n",
    "        if use_feature_correlations:\n",
    "            self.feature_correlations = nn.Parameter(torch.zeros(num_features, num_features))\n",
    "            nn.init.xavier_uniform_(self.feature_correlations)\n",
    "        \n",
    "        # Better initialization for transformer layers\n",
    "        # NOTE: activation must be lowercase 'relu' or 'gelu'\n",
    "        encoder_layer = nn.TransformerEncoderLayer(\n",
    "            d_model=d_model, \n",
    "            nhead=num_heads, \n",
    "            dim_feedforward=ff_dim, \n",
    "            dropout=dropout,\n",
    "            activation=activation_lower,  # Must be lowercase!\n",
    "            batch_first=True,\n",
    "            norm_first=True  # Pre-LN architecture for better stability\n",
    "        )\n",
    "        \n",
    "        self.transformer_encoder = nn.TransformerEncoder(encoder_layer, num_layers)\n",
    "        \n",
    "        # Multi-stage output projection\n",
    "        self.output_projection = nn.Sequential(\n",
    "            nn.Linear(d_model, d_model // 2),\n",
    "            nn.LayerNorm(d_model // 2),\n",
    "            activation_fn,\n",
    "            nn.Dropout(dropout / 2),\n",
    "            nn.Linear(d_model // 2, 1)\n",
    "        )\n",
    "        \n",
    "        # Confidence estimator for each imputation\n",
    "        self.confidence_estimator = nn.Sequential(\n",
    "            nn.Linear(d_model, d_model // 4),\n",
    "            activation_fn,\n",
    "            nn.Linear(d_model // 4, 1),\n",
    "            nn.Sigmoid()\n",
    "        )\n",
    "        \n",
    "        self._init_weights()\n",
    "    \n",
    "    def _init_weights(self):\n",
    "        # Improved weight initialization\n",
    "        for p in self.parameters():\n",
    "            if p.dim() > 1:\n",
    "                nn.init.xavier_uniform_(p)\n",
    "        \n",
    "    def forward(self, x, column_indices, missing_mask=None, return_confidence=False):\n",
    "        # Handling missing values explicitly\n",
    "        if missing_mask is not None:\n",
    "            missing_indicator = missing_mask.unsqueeze(-1).float()\n",
    "            x = x.unsqueeze(-1)\n",
    "        else:\n",
    "            # Assume zeros are missing values if no mask is provided\n",
    "            missing_indicator = (x == 0).unsqueeze(-1).float()\n",
    "            x = x.unsqueeze(-1)\n",
    "        \n",
    "        # Enhanced embedding with missing value indicator\n",
    "        x_embed = self.value_embedding(x)\n",
    "        \n",
    "        # Add column embeddings\n",
    "        col_embed = self.column_embedding(column_indices)\n",
    "        x_embed = x_embed + col_embed.unsqueeze(0)\n",
    "        \n",
    "        # Add missing indicator information\n",
    "        missing_info = missing_indicator * -1.0 + (1 - missing_indicator) * 1.0\n",
    "        x_embed = x_embed * (1 + 0.1 * missing_info)\n",
    "        \n",
    "        # Apply transformer encoder\n",
    "        x_encoded = self.transformer_encoder(x_embed)\n",
    "        \n",
    "        # Generate output predictions\n",
    "        output = self.output_projection(x_encoded)\n",
    "        \n",
    "        # Generate confidence scores for each imputation\n",
    "        confidence = None\n",
    "        if return_confidence:\n",
    "            confidence = self.confidence_estimator(x_encoded)\n",
    "        \n",
    "        # Return predictions and optionally confidence\n",
    "        if return_confidence:\n",
    "            return output.squeeze(-1), confidence.squeeze(-1)\n",
    "        return output.squeeze(-1)\n",
    "\n",
    "    def impute(self, x, column_indices, confidence_threshold=0.5):\n",
    "        \"\"\"\n",
    "        Imputes missing values and only replaces values where the model is confident\n",
    "        \"\"\"\n",
    "        # Clone input to avoid modifying the original\n",
    "        imputed_x = x.clone()\n",
    "        \n",
    "        # Identify missing values\n",
    "        missing_mask = (imputed_x == 0).int()\n",
    "        \n",
    "        # Get predictions and confidence\n",
    "        predictions, confidence = self.forward(imputed_x, column_indices, missing_mask, return_confidence=True)\n",
    "        \n",
    "        # Only impute where confidence exceeds threshold\n",
    "        confident_imputation = (confidence > confidence_threshold) & (missing_mask == 1)\n",
    "        imputed_x[confident_imputation] = predictions[confident_imputation]\n",
    "        \n",
    "        return imputed_x, predictions, confidence"
   ]
  },
  {
   "cell_type": "code",
   "execution_count": 30,
   "metadata": {},
   "outputs": [
    {
     "name": "stdout",
     "output_type": "stream",
     "text": [
      "Mask Shape: torch.Size([1150, 39])\n"
     ]
    }
   ],
   "source": [
    "def create_missing_mask(data, missing_fraction=0.2):\n",
    "    mask = torch.rand(data.shape).to(data.device) < missing_fraction\n",
    "    return mask.int()\n",
    "\n",
    "missing_fraction = 0.2\n",
    "mask = create_missing_mask(train_tensor, missing_fraction)\n",
    "print(f\"Mask Shape: {mask.shape}\")"
   ]
  },
  {
   "cell_type": "code",
   "execution_count": 31,
   "metadata": {},
   "outputs": [],
   "source": [
    "def compute_loss(predictions, ground_truth, mask):\n",
    "    mse_loss = nn.MSELoss(reduction='none')\n",
    "    loss = mse_loss(predictions, ground_truth)\n",
    "    masked_loss = (loss * mask).sum() / mask.sum()  # Normalize by number of masked positions\n",
    "    return masked_loss"
   ]
  },
  {
   "cell_type": "code",
   "execution_count": 32,
   "metadata": {},
   "outputs": [],
   "source": [
    "def evaluate_model(model, test_data, column_indices, missing_fraction=0.2):\n",
    "    model.eval()\n",
    "\n",
    "    mask = create_missing_mask(test_data, missing_fraction)\n",
    "    input_with_mask = test_data.clone()\n",
    "    input_with_mask[mask == 1] = 0\n",
    "\n",
    "    with torch.no_grad():\n",
    "        # Check if the model supports returning confidence\n",
    "        result = model(input_with_mask, column_indices, mask, return_confidence=True)\n",
    "        \n",
    "        # Handle both cases where model may or may not return confidence\n",
    "        if isinstance(result, tuple) and len(result) == 2:\n",
    "            predictions, confidence = result\n",
    "        else:\n",
    "            predictions = result\n",
    "            confidence = None\n",
    "\n",
    "    loss = compute_loss(predictions, test_data, mask)\n",
    "    \n",
    "    # Additional metrics on high-confidence predictions\n",
    "    if confidence is not None:\n",
    "        high_conf_mask = (confidence > 0.7) & (mask == 1)\n",
    "        if high_conf_mask.sum() > 0:\n",
    "            high_conf_loss = ((predictions[high_conf_mask] - test_data[high_conf_mask]) ** 2).mean()\n",
    "            print(f\"High confidence predictions loss: {high_conf_loss.item():.4f}\")\n",
    "    \n",
    "    print(f\"Test Loss: {loss.item():.4f}\")\n",
    "    return loss"
   ]
  },
  {
   "cell_type": "code",
   "execution_count": 33,
   "metadata": {},
   "outputs": [
    {
     "name": "stderr",
     "output_type": "stream",
     "text": [
      "c:\\Users\\wh1sper\\AppData\\Local\\Programs\\Python\\Python313\\Lib\\site-packages\\torch\\nn\\modules\\transformer.py:385: UserWarning: enable_nested_tensor is True, but self.use_nested_tensor is False because encoder_layer.norm_first was True\n",
      "  warnings.warn(\n"
     ]
    }
   ],
   "source": [
    "num_features = train_tensor.shape[1]\n",
    "model = EnhancedTransformerModel(\n",
    "    num_features=num_features, \n",
    "    d_model=128,\n",
    "    num_heads=8,\n",
    "    num_layers=3,\n",
    "    dropout=0.2,\n",
    "    ff_dim=512,\n",
    "    activation='gelu',  # lowercase!\n",
    "    use_feature_correlations=True\n",
    ")\n",
    "model = model.to(device)"
   ]
  },
  {
   "cell_type": "code",
   "execution_count": 34,
   "metadata": {},
   "outputs": [
    {
     "name": "stderr",
     "output_type": "stream",
     "text": [
      "c:\\Users\\wh1sper\\AppData\\Local\\Programs\\Python\\Python313\\Lib\\site-packages\\torch\\optim\\lr_scheduler.py:62: UserWarning: The verbose parameter is deprecated. Please use get_last_lr() to access the learning rate.\n",
      "  warnings.warn(\n"
     ]
    },
    {
     "name": "stdout",
     "output_type": "stream",
     "text": [
      "Epoch 1/30, Loss: 1.5009, Base Loss: 1.4769\n",
      "Epoch 2/30, Loss: 6.6979, Base Loss: 6.6776\n",
      "Epoch 3/30, Loss: 1.7165, Base Loss: 1.7075\n",
      "Epoch 4/30, Loss: 1.3001, Base Loss: 1.2915\n",
      "Epoch 5/30, Loss: 1.3997, Base Loss: 1.3968\n",
      "High confidence predictions loss: 0.8853\n",
      "Test Loss: 0.8853\n",
      "Epoch 6/30, Loss: 1.1003, Base Loss: 1.0997\n",
      "Epoch 7/30, Loss: 1.2186, Base Loss: 1.2185\n",
      "Epoch 8/30, Loss: 1.2836, Base Loss: 1.2836\n",
      "Epoch 9/30, Loss: 1.1510, Base Loss: 1.1510\n",
      "Epoch 10/30, Loss: 0.9704, Base Loss: 0.9704\n",
      "High confidence predictions loss: 1.7642\n",
      "Test Loss: 1.7642\n",
      "Epoch 11/30, Loss: 1.1446, Base Loss: 1.1446\n",
      "Epoch 12/30, Loss: 1.0698, Base Loss: 1.0698\n",
      "Epoch 13/30, Loss: 1.1581, Base Loss: 1.1581\n",
      "Epoch 14/30, Loss: 1.0061, Base Loss: 1.0061\n",
      "Epoch 15/30, Loss: 1.0429, Base Loss: 1.0429\n",
      "High confidence predictions loss: 0.8480\n",
      "Test Loss: 0.8480\n",
      "Epoch 16/30, Loss: 0.9288, Base Loss: 0.9288\n",
      "Epoch 17/30, Loss: 0.9571, Base Loss: 0.9571\n",
      "Epoch 18/30, Loss: 1.0147, Base Loss: 1.0147\n",
      "Epoch 19/30, Loss: 1.0419, Base Loss: 1.0419\n",
      "Epoch 20/30, Loss: 1.0001, Base Loss: 1.0001\n",
      "High confidence predictions loss: 1.8570\n",
      "Test Loss: 1.8570\n",
      "Epoch 21/30, Loss: 0.9940, Base Loss: 0.9940\n",
      "Epoch 22/30, Loss: 1.1918, Base Loss: 1.1918\n",
      "Epoch 23/30, Loss: 1.0571, Base Loss: 1.0571\n",
      "Epoch 24/30, Loss: 0.9655, Base Loss: 0.9655\n",
      "Epoch 25/30, Loss: 1.0267, Base Loss: 1.0267\n",
      "High confidence predictions loss: 1.8086\n",
      "Test Loss: 1.8086\n",
      "Epoch 26/30, Loss: 0.9358, Base Loss: 0.9358\n",
      "Epoch 27/30, Loss: 0.9304, Base Loss: 0.9304\n",
      "Epoch 28/30, Loss: 1.0549, Base Loss: 1.0549\n",
      "Epoch 29/30, Loss: 1.0916, Base Loss: 1.0916\n",
      "Epoch 30/30, Loss: 1.0806, Base Loss: 1.0806\n",
      "High confidence predictions loss: 2.0155\n",
      "Test Loss: 2.0155\n"
     ]
    }
   ],
   "source": [
    "\n",
    "column_indices = torch.arange(num_features).to(device)\n",
    "\n",
    "optimizer = torch.optim.AdamW(model.parameters(), lr=1e-3, weight_decay=1e-5)  # Changed from Adam to AdamW\n",
    "\n",
    "scheduler = torch.optim.lr_scheduler.ReduceLROnPlateau(optimizer, mode='min', factor=0.5, patience=3, verbose=True)\n",
    "\n",
    "num_epochs = 30  # Increased from 20 to allow the model to learn better representations\n",
    "\n",
    "for epoch in range(num_epochs):\n",
    "    model.train()\n",
    "    optimizer.zero_grad()\n",
    "\n",
    "    # Create missing mask as before\n",
    "    mask = create_missing_mask(train_tensor, missing_fraction)\n",
    "    input_with_mask = train_tensor.clone()\n",
    "    input_with_mask[mask == 1] = 0\n",
    "\n",
    "    # Forward pass with the mask explicitly provided\n",
    "    predictions, confidence = model(input_with_mask, column_indices, mask, return_confidence=True)\n",
    "\n",
    "    # Compute weighted loss based on confidence\n",
    "    base_loss = compute_loss(predictions, train_tensor, mask)\n",
    "    confidence_loss = ((1 - confidence[mask == 1]) * (predictions[mask == 1] - train_tensor[mask == 1]).abs()).mean()\n",
    "    \n",
    "    # Combined loss with confidence regularization\n",
    "    loss = base_loss + 0.1 * confidence_loss\n",
    "\n",
    "    loss.backward()\n",
    "    \n",
    "    # Gradient clipping to prevent exploding gradients\n",
    "    torch.nn.utils.clip_grad_norm_(model.parameters(), max_norm=1.0)\n",
    "    \n",
    "    optimizer.step()\n",
    "    \n",
    "    print(f\"Epoch {epoch+1}/{num_epochs}, Loss: {loss.item():.4f}, Base Loss: {base_loss.item():.4f}\")\n",
    "    \n",
    "    # Update learning rate based on validation performance\n",
    "    if (epoch + 1) % 5 == 0:\n",
    "        val_loss = evaluate_model(model, val_tensor, column_indices, missing_fraction)\n",
    "        scheduler.step(val_loss)"
   ]
  },
  {
   "cell_type": "code",
   "execution_count": 35,
   "metadata": {},
   "outputs": [
    {
     "name": "stdout",
     "output_type": "stream",
     "text": [
      "High confidence predictions loss: 0.8757\n",
      "Test Loss: 0.8757\n"
     ]
    },
    {
     "data": {
      "text/plain": [
       "tensor(0.8757)"
      ]
     },
     "execution_count": 35,
     "metadata": {},
     "output_type": "execute_result"
    }
   ],
   "source": [
    "evaluate_model(model, test_tensor, column_indices)\n"
   ]
  },
  {
   "cell_type": "code",
   "execution_count": 36,
   "metadata": {},
   "outputs": [
    {
     "name": "stdout",
     "output_type": "stream",
     "text": [
      "NRMSE: 0.0272, Confidence-weighted NRMSE: 0.0272\n"
     ]
    }
   ],
   "source": [
    "import torch\n",
    "\n",
    "def compute_nrmse(predictions, ground_truth, mask, confidence=None):\n",
    "    if confidence is not None:\n",
    "        # Weight errors by confidence (give more weight to high-confidence predictions)\n",
    "        conf_weighted = confidence[mask == 1]\n",
    "        predictions_masked = predictions[mask == 1]\n",
    "        ground_truth_masked = ground_truth[mask == 1]\n",
    "        \n",
    "        # Weighted MSE calculation\n",
    "        weighted_squared_error = conf_weighted * ((predictions_masked - ground_truth_masked) ** 2)\n",
    "        mse = weighted_squared_error.sum() / conf_weighted.sum()\n",
    "    else:\n",
    "        # Original calculation\n",
    "        masked_predictions = predictions[mask == 1]\n",
    "        masked_ground_truth = ground_truth[mask == 1]\n",
    "        mse = torch.mean((masked_predictions - masked_ground_truth) ** 2)\n",
    "    \n",
    "    rmse = torch.sqrt(mse)\n",
    "    data_range = ground_truth.max() - ground_truth.min()\n",
    "    nrmse = rmse / data_range\n",
    "    return nrmse.item()\n",
    "\n",
    "def evaluate_model_with_nrmse(model, test_data, column_indices, missing_fraction=0.2):\n",
    "    model.eval()\n",
    "\n",
    "    mask = create_missing_mask(test_data, missing_fraction)\n",
    "    input_with_mask = test_data.clone()\n",
    "    input_with_mask[mask == 1] = 0\n",
    "\n",
    "    with torch.no_grad():\n",
    "        predictions, confidence = model(input_with_mask, column_indices, mask, return_confidence=True)\n",
    "\n",
    "    # Standard NRMSE\n",
    "    nrmse = compute_nrmse(predictions, test_data, mask)\n",
    "    # Confidence-weighted NRMSE\n",
    "    weighted_nrmse = compute_nrmse(predictions, test_data, mask, confidence)\n",
    "    \n",
    "    print(f\"NRMSE: {nrmse:.4f}, Confidence-weighted NRMSE: {weighted_nrmse:.4f}\")\n",
    "    return nrmse\n",
    "\n",
    "nrmse = evaluate_model_with_nrmse(model, test_tensor, column_indices)\n"
   ]
  },
  {
   "cell_type": "code",
   "execution_count": 37,
   "metadata": {},
   "outputs": [],
   "source": [
    "from pyampute.ampute import MultivariateAmputation\n",
    "import pandas as pd\n",
    "import numpy as np\n",
    "import torch\n",
    "\n",
    "def create_missing_dataset(data, missing_fraction=0.1, mechanism=\"MCAR\"):\n",
    "\n",
    "    if isinstance(data, np.ndarray):\n",
    "        data = pd.DataFrame(data)\n",
    "\n",
    "    patterns = [{\n",
    "        \"incomplete_vars\": data.columns.tolist(),\n",
    "        \"weights\": np.zeros(len(data.columns)),  # Default for MCAR\n",
    "        \"mechanism\": mechanism,\n",
    "        \"score_to_probability_func\": \"sigmoid-right\"\n",
    "    }]\n",
    "\n",
    "    if mechanism == \"MAR\":\n",
    "        num_columns = len(data.columns)\n",
    "        num_amputed_columns = max(1, int(num_columns * 0.5))\n",
    "        amputed_columns = np.random.choice(data.columns, num_amputed_columns, replace=False)\n",
    "        patterns[0][\"incomplete_vars\"] = amputed_columns\n",
    "        patterns[0][\"weights\"] = np.random.uniform(-1, 1, num_columns) \n",
    "    \n",
    "    elif mechanism == \"MNAR\":\n",
    "        patterns[0][\"weights\"] = np.random.uniform(0.5, 2, len(data.columns))\n",
    "\n",
    "    amputer = MultivariateAmputation(prop=missing_fraction, patterns=patterns)\n",
    "    amputed_data = amputer.fit_transform(data)\n",
    "\n",
    "    mask = pd.isna(amputed_data).astype(int).to_numpy()\n",
    "    amputed_data = np.nan_to_num(amputed_data, nan=0.0)\n",
    "\n",
    "    amputed_data = torch.tensor(amputed_data, dtype=torch.float32).to(device)\n",
    "    mask = torch.tensor(mask, dtype=torch.int32).to(device)\n",
    "\n",
    "    assert amputed_data.shape == mask.shape, \"Data and mask shapes dont match\"\n",
    "    return amputed_data, mask\n"
   ]
  },
  {
   "cell_type": "code",
   "execution_count": 38,
   "metadata": {},
   "outputs": [],
   "source": [
    "def compute_nrmse(predictions, ground_truth, mask):\n",
    "\n",
    "    masked_predictions = predictions[mask == 1]\n",
    "    masked_ground_truth = ground_truth[mask == 1]\n",
    "\n",
    "    mse = torch.mean((masked_predictions - masked_ground_truth) ** 2)\n",
    "    rmse = torch.sqrt(mse)\n",
    "\n",
    "    data_range = ground_truth.max() - ground_truth.min()\n",
    "\n",
    "    nrmse = rmse / data_range\n",
    "    return nrmse.item()"
   ]
  },
  {
   "cell_type": "code",
   "execution_count": 39,
   "metadata": {},
   "outputs": [],
   "source": [
    "def evaluate_model_with_missingness(model, original_data, column_indices, missing_fraction=0.1, mechanism=\"MCAR\"):\n",
    "    model.eval()\n",
    "\n",
    "    amputed_data, mask = create_missing_dataset(original_data.cpu().numpy(), missing_fraction, mechanism)\n",
    "\n",
    "    with torch.no_grad():\n",
    "        predictions, confidence = model(amputed_data, column_indices, mask, return_confidence=True)\n",
    "\n",
    "    # Standard NRMSE\n",
    "    nrmse = compute_nrmse(predictions, original_data, mask)\n",
    "    # Confidence-weighted NRMSE\n",
    "    weighted_nrmse = compute_nrmse(predictions, original_data, mask, confidence)\n",
    "    \n",
    "    print(f\"{mechanism} NRMSE at {missing_fraction * 100:.0f}% Missing: {nrmse:.4f}, Weighted: {weighted_nrmse:.4f}\")\n",
    "    \n",
    "    # Additional analysis of high vs. low confidence predictions\n",
    "    high_conf = confidence > 0.8\n",
    "    if (high_conf & mask).sum() > 0:\n",
    "        high_conf_nrmse = compute_nrmse(predictions, original_data, mask & high_conf)\n",
    "        print(f\"  High confidence predictions NRMSE: {high_conf_nrmse:.4f}\")\n",
    "    \n",
    "    return nrmse\n"
   ]
  },
  {
   "cell_type": "code",
   "execution_count": 40,
   "metadata": {},
   "outputs": [],
   "source": [
    "def evaluate_across_mechanisms(model, original_data, column_indices, missing_fractions):\n",
    "    mechanisms = [\"MCAR\", \"MAR\", \"MNAR\"]\n",
    "    results = {mechanism: {} for mechanism in mechanisms}\n",
    "    \n",
    "    for mechanism in mechanisms:\n",
    "        for fraction in missing_fractions:\n",
    "            results[mechanism][fraction] = evaluate_model_with_missingness(\n",
    "                model, original_data, column_indices, missing_fraction=fraction, mechanism=mechanism\n",
    "            )\n",
    "    \n",
    "    return results"
   ]
  },
  {
   "cell_type": "code",
   "execution_count": 41,
   "metadata": {},
   "outputs": [
    {
     "name": "stderr",
     "output_type": "stream",
     "text": [
      "2025-03-27 01:34:42,084 [WARNING] Failed to load lookup table for a prespecified score to probability function. It is possible data\\shift_lookup.csv is missing, in the wrong location, or corrupted. Try rerunning scripts/generate_shift_lookup_table.py to regenerate the lookup table.\n"
     ]
    },
    {
     "ename": "TypeError",
     "evalue": "compute_nrmse() takes 3 positional arguments but 4 were given",
     "output_type": "error",
     "traceback": [
      "\u001b[1;31m---------------------------------------------------------------------------\u001b[0m",
      "\u001b[1;31mTypeError\u001b[0m                                 Traceback (most recent call last)",
      "Cell \u001b[1;32mIn[41], line 3\u001b[0m\n\u001b[0;32m      1\u001b[0m missing_fractions \u001b[38;5;241m=\u001b[39m [\u001b[38;5;241m0.1\u001b[39m, \u001b[38;5;241m0.2\u001b[39m, \u001b[38;5;241m0.3\u001b[39m, \u001b[38;5;241m0.4\u001b[39m, \u001b[38;5;241m0.5\u001b[39m]\n\u001b[1;32m----> 3\u001b[0m results \u001b[38;5;241m=\u001b[39m \u001b[43mevaluate_across_mechanisms\u001b[49m\u001b[43m(\u001b[49m\u001b[43mmodel\u001b[49m\u001b[43m,\u001b[49m\u001b[43m \u001b[49m\u001b[43mtest_tensor\u001b[49m\u001b[43m,\u001b[49m\u001b[43m \u001b[49m\u001b[43mcolumn_indices\u001b[49m\u001b[43m,\u001b[49m\u001b[43m \u001b[49m\u001b[43mmissing_fractions\u001b[49m\u001b[43m)\u001b[49m\n\u001b[0;32m      5\u001b[0m \u001b[38;5;28;01mfor\u001b[39;00m mechanism, nrmse_values \u001b[38;5;129;01min\u001b[39;00m results\u001b[38;5;241m.\u001b[39mitems():\n\u001b[0;32m      6\u001b[0m     \u001b[38;5;28mprint\u001b[39m(\u001b[38;5;124mf\u001b[39m\u001b[38;5;124m\"\u001b[39m\u001b[38;5;130;01m\\n\u001b[39;00m\u001b[38;5;132;01m{\u001b[39;00mmechanism\u001b[38;5;132;01m}\u001b[39;00m\u001b[38;5;124m Results:\u001b[39m\u001b[38;5;124m\"\u001b[39m)\n",
      "Cell \u001b[1;32mIn[40], line 7\u001b[0m, in \u001b[0;36mevaluate_across_mechanisms\u001b[1;34m(model, original_data, column_indices, missing_fractions)\u001b[0m\n\u001b[0;32m      5\u001b[0m \u001b[38;5;28;01mfor\u001b[39;00m mechanism \u001b[38;5;129;01min\u001b[39;00m mechanisms:\n\u001b[0;32m      6\u001b[0m     \u001b[38;5;28;01mfor\u001b[39;00m fraction \u001b[38;5;129;01min\u001b[39;00m missing_fractions:\n\u001b[1;32m----> 7\u001b[0m         results[mechanism][fraction] \u001b[38;5;241m=\u001b[39m \u001b[43mevaluate_model_with_missingness\u001b[49m\u001b[43m(\u001b[49m\n\u001b[0;32m      8\u001b[0m \u001b[43m            \u001b[49m\u001b[43mmodel\u001b[49m\u001b[43m,\u001b[49m\u001b[43m \u001b[49m\u001b[43moriginal_data\u001b[49m\u001b[43m,\u001b[49m\u001b[43m \u001b[49m\u001b[43mcolumn_indices\u001b[49m\u001b[43m,\u001b[49m\u001b[43m \u001b[49m\u001b[43mmissing_fraction\u001b[49m\u001b[38;5;241;43m=\u001b[39;49m\u001b[43mfraction\u001b[49m\u001b[43m,\u001b[49m\u001b[43m \u001b[49m\u001b[43mmechanism\u001b[49m\u001b[38;5;241;43m=\u001b[39;49m\u001b[43mmechanism\u001b[49m\n\u001b[0;32m      9\u001b[0m \u001b[43m        \u001b[49m\u001b[43m)\u001b[49m\n\u001b[0;32m     11\u001b[0m \u001b[38;5;28;01mreturn\u001b[39;00m results\n",
      "Cell \u001b[1;32mIn[39], line 12\u001b[0m, in \u001b[0;36mevaluate_model_with_missingness\u001b[1;34m(model, original_data, column_indices, missing_fraction, mechanism)\u001b[0m\n\u001b[0;32m     10\u001b[0m nrmse \u001b[38;5;241m=\u001b[39m compute_nrmse(predictions, original_data, mask)\n\u001b[0;32m     11\u001b[0m \u001b[38;5;66;03m# Confidence-weighted NRMSE\u001b[39;00m\n\u001b[1;32m---> 12\u001b[0m weighted_nrmse \u001b[38;5;241m=\u001b[39m \u001b[43mcompute_nrmse\u001b[49m\u001b[43m(\u001b[49m\u001b[43mpredictions\u001b[49m\u001b[43m,\u001b[49m\u001b[43m \u001b[49m\u001b[43moriginal_data\u001b[49m\u001b[43m,\u001b[49m\u001b[43m \u001b[49m\u001b[43mmask\u001b[49m\u001b[43m,\u001b[49m\u001b[43m \u001b[49m\u001b[43mconfidence\u001b[49m\u001b[43m)\u001b[49m\n\u001b[0;32m     14\u001b[0m \u001b[38;5;28mprint\u001b[39m(\u001b[38;5;124mf\u001b[39m\u001b[38;5;124m\"\u001b[39m\u001b[38;5;132;01m{\u001b[39;00mmechanism\u001b[38;5;132;01m}\u001b[39;00m\u001b[38;5;124m NRMSE at \u001b[39m\u001b[38;5;132;01m{\u001b[39;00mmissing_fraction\u001b[38;5;250m \u001b[39m\u001b[38;5;241m*\u001b[39m\u001b[38;5;250m \u001b[39m\u001b[38;5;241m100\u001b[39m\u001b[38;5;132;01m:\u001b[39;00m\u001b[38;5;124m.0f\u001b[39m\u001b[38;5;132;01m}\u001b[39;00m\u001b[38;5;124m% Missing: \u001b[39m\u001b[38;5;132;01m{\u001b[39;00mnrmse\u001b[38;5;132;01m:\u001b[39;00m\u001b[38;5;124m.4f\u001b[39m\u001b[38;5;132;01m}\u001b[39;00m\u001b[38;5;124m, Weighted: \u001b[39m\u001b[38;5;132;01m{\u001b[39;00mweighted_nrmse\u001b[38;5;132;01m:\u001b[39;00m\u001b[38;5;124m.4f\u001b[39m\u001b[38;5;132;01m}\u001b[39;00m\u001b[38;5;124m\"\u001b[39m)\n\u001b[0;32m     16\u001b[0m \u001b[38;5;66;03m# Additional analysis of high vs. low confidence predictions\u001b[39;00m\n",
      "\u001b[1;31mTypeError\u001b[0m: compute_nrmse() takes 3 positional arguments but 4 were given"
     ]
    }
   ],
   "source": [
    "missing_fractions = [0.1, 0.2, 0.3, 0.4, 0.5]\n",
    "\n",
    "results = evaluate_across_mechanisms(model, test_tensor, column_indices, missing_fractions)\n",
    "\n",
    "for mechanism, nrmse_values in results.items():\n",
    "    print(f\"\\n{mechanism} Results:\")\n",
    "    for frac, nrmse in nrmse_values.items():\n",
    "        print(f\"  Missing Fraction {frac * 100:.0f}%: NRMSE = {nrmse:.4f}\")\n"
   ]
  },
  {
   "cell_type": "code",
   "execution_count": 42,
   "metadata": {},
   "outputs": [
    {
     "name": "stdout",
     "output_type": "stream",
     "text": [
      "Enhanced model saved to enhanced_tabular_transformer_model.pth\n"
     ]
    }
   ],
   "source": [
    "model_path = \"enhanced_tabular_transformer_model.pth\"\n",
    "torch.save({\n",
    "    'model_state_dict': model.state_dict(),\n",
    "    'model_config': {\n",
    "        'num_features': num_features,\n",
    "        'd_model': 128,\n",
    "        'num_heads': 8,\n",
    "        'num_layers': 3,\n",
    "        'dropout': 0.2,\n",
    "        'ff_dim': 512,\n",
    "        'activation': 'GELU',\n",
    "        'use_feature_correlations': True\n",
    "    }\n",
    "}, model_path)\n",
    "print(f\"Enhanced model saved to {model_path}\")\n",
    "\n",
    "# Loading\n",
    "def load_model(path):\n",
    "    checkpoint = torch.load(path)\n",
    "    config = checkpoint['model_config']\n",
    "    loaded_model = EnhancedTransformerModel(**config)\n",
    "    loaded_model.load_state_dict(checkpoint['model_state_dict'])\n",
    "    return loaded_model.to(device)"
   ]
  },
  {
   "cell_type": "code",
   "execution_count": 43,
   "metadata": {},
   "outputs": [
    {
     "name": "stderr",
     "output_type": "stream",
     "text": [
      "2025-03-27 01:35:31,208 [WARNING] Failed to load lookup table for a prespecified score to probability function. It is possible data\\shift_lookup.csv is missing, in the wrong location, or corrupted. Try rerunning scripts/generate_shift_lookup_table.py to regenerate the lookup table.\n",
      "c:\\Users\\wh1sper\\AppData\\Local\\Programs\\Python\\Python313\\Lib\\site-packages\\pyampute\\ampute.py:400: RuntimeWarning: Precision loss occurred in moment calculation due to catastrophic cancellation. This occurs when the data are nearly identical. Results may be unreliable.\n",
      "  data_group = stats.zscore(data_group)\n"
     ]
    },
    {
     "ename": "TypeError",
     "evalue": "compute_nrmse() takes 3 positional arguments but 4 were given",
     "output_type": "error",
     "traceback": [
      "\u001b[1;31m---------------------------------------------------------------------------\u001b[0m",
      "\u001b[1;31mTypeError\u001b[0m                                 Traceback (most recent call last)",
      "Cell \u001b[1;32mIn[43], line 11\u001b[0m\n\u001b[0;32m      6\u001b[0m device \u001b[38;5;241m=\u001b[39m torch\u001b[38;5;241m.\u001b[39mdevice(\u001b[38;5;124m'\u001b[39m\u001b[38;5;124mcuda\u001b[39m\u001b[38;5;124m'\u001b[39m \u001b[38;5;28;01mif\u001b[39;00m torch\u001b[38;5;241m.\u001b[39mcuda\u001b[38;5;241m.\u001b[39mis_available() \u001b[38;5;28;01melse\u001b[39;00m \u001b[38;5;124m'\u001b[39m\u001b[38;5;124mcpu\u001b[39m\u001b[38;5;124m'\u001b[39m)\n\u001b[0;32m      8\u001b[0m new_test_tensor \u001b[38;5;241m=\u001b[39m torch\u001b[38;5;241m.\u001b[39mtensor(new_test_data, dtype\u001b[38;5;241m=\u001b[39mtorch\u001b[38;5;241m.\u001b[39mfloat32)\u001b[38;5;241m.\u001b[39mto(device)\n\u001b[1;32m---> 11\u001b[0m new_results \u001b[38;5;241m=\u001b[39m \u001b[43mevaluate_across_mechanisms\u001b[49m\u001b[43m(\u001b[49m\u001b[43mmodel\u001b[49m\u001b[43m,\u001b[49m\u001b[43m \u001b[49m\u001b[43mnew_test_tensor\u001b[49m\u001b[43m,\u001b[49m\u001b[43m \u001b[49m\u001b[43mcolumn_indices\u001b[49m\u001b[43m,\u001b[49m\u001b[43m \u001b[49m\u001b[43mmissing_fractions\u001b[49m\u001b[43m)\u001b[49m\n\u001b[0;32m     13\u001b[0m \u001b[38;5;28;01mfor\u001b[39;00m mechanism, nrmse_values \u001b[38;5;129;01min\u001b[39;00m new_results\u001b[38;5;241m.\u001b[39mitems():\n\u001b[0;32m     14\u001b[0m     \u001b[38;5;28mprint\u001b[39m(\u001b[38;5;124mf\u001b[39m\u001b[38;5;124m\"\u001b[39m\u001b[38;5;130;01m\\n\u001b[39;00m\u001b[38;5;132;01m{\u001b[39;00mmechanism\u001b[38;5;132;01m}\u001b[39;00m\u001b[38;5;124m Results:\u001b[39m\u001b[38;5;124m\"\u001b[39m)\n",
      "Cell \u001b[1;32mIn[40], line 7\u001b[0m, in \u001b[0;36mevaluate_across_mechanisms\u001b[1;34m(model, original_data, column_indices, missing_fractions)\u001b[0m\n\u001b[0;32m      5\u001b[0m \u001b[38;5;28;01mfor\u001b[39;00m mechanism \u001b[38;5;129;01min\u001b[39;00m mechanisms:\n\u001b[0;32m      6\u001b[0m     \u001b[38;5;28;01mfor\u001b[39;00m fraction \u001b[38;5;129;01min\u001b[39;00m missing_fractions:\n\u001b[1;32m----> 7\u001b[0m         results[mechanism][fraction] \u001b[38;5;241m=\u001b[39m \u001b[43mevaluate_model_with_missingness\u001b[49m\u001b[43m(\u001b[49m\n\u001b[0;32m      8\u001b[0m \u001b[43m            \u001b[49m\u001b[43mmodel\u001b[49m\u001b[43m,\u001b[49m\u001b[43m \u001b[49m\u001b[43moriginal_data\u001b[49m\u001b[43m,\u001b[49m\u001b[43m \u001b[49m\u001b[43mcolumn_indices\u001b[49m\u001b[43m,\u001b[49m\u001b[43m \u001b[49m\u001b[43mmissing_fraction\u001b[49m\u001b[38;5;241;43m=\u001b[39;49m\u001b[43mfraction\u001b[49m\u001b[43m,\u001b[49m\u001b[43m \u001b[49m\u001b[43mmechanism\u001b[49m\u001b[38;5;241;43m=\u001b[39;49m\u001b[43mmechanism\u001b[49m\n\u001b[0;32m      9\u001b[0m \u001b[43m        \u001b[49m\u001b[43m)\u001b[49m\n\u001b[0;32m     11\u001b[0m \u001b[38;5;28;01mreturn\u001b[39;00m results\n",
      "Cell \u001b[1;32mIn[39], line 12\u001b[0m, in \u001b[0;36mevaluate_model_with_missingness\u001b[1;34m(model, original_data, column_indices, missing_fraction, mechanism)\u001b[0m\n\u001b[0;32m     10\u001b[0m nrmse \u001b[38;5;241m=\u001b[39m compute_nrmse(predictions, original_data, mask)\n\u001b[0;32m     11\u001b[0m \u001b[38;5;66;03m# Confidence-weighted NRMSE\u001b[39;00m\n\u001b[1;32m---> 12\u001b[0m weighted_nrmse \u001b[38;5;241m=\u001b[39m \u001b[43mcompute_nrmse\u001b[49m\u001b[43m(\u001b[49m\u001b[43mpredictions\u001b[49m\u001b[43m,\u001b[49m\u001b[43m \u001b[49m\u001b[43moriginal_data\u001b[49m\u001b[43m,\u001b[49m\u001b[43m \u001b[49m\u001b[43mmask\u001b[49m\u001b[43m,\u001b[49m\u001b[43m \u001b[49m\u001b[43mconfidence\u001b[49m\u001b[43m)\u001b[49m\n\u001b[0;32m     14\u001b[0m \u001b[38;5;28mprint\u001b[39m(\u001b[38;5;124mf\u001b[39m\u001b[38;5;124m\"\u001b[39m\u001b[38;5;132;01m{\u001b[39;00mmechanism\u001b[38;5;132;01m}\u001b[39;00m\u001b[38;5;124m NRMSE at \u001b[39m\u001b[38;5;132;01m{\u001b[39;00mmissing_fraction\u001b[38;5;250m \u001b[39m\u001b[38;5;241m*\u001b[39m\u001b[38;5;250m \u001b[39m\u001b[38;5;241m100\u001b[39m\u001b[38;5;132;01m:\u001b[39;00m\u001b[38;5;124m.0f\u001b[39m\u001b[38;5;132;01m}\u001b[39;00m\u001b[38;5;124m% Missing: \u001b[39m\u001b[38;5;132;01m{\u001b[39;00mnrmse\u001b[38;5;132;01m:\u001b[39;00m\u001b[38;5;124m.4f\u001b[39m\u001b[38;5;132;01m}\u001b[39;00m\u001b[38;5;124m, Weighted: \u001b[39m\u001b[38;5;132;01m{\u001b[39;00mweighted_nrmse\u001b[38;5;132;01m:\u001b[39;00m\u001b[38;5;124m.4f\u001b[39m\u001b[38;5;132;01m}\u001b[39;00m\u001b[38;5;124m\"\u001b[39m)\n\u001b[0;32m     16\u001b[0m \u001b[38;5;66;03m# Additional analysis of high vs. low confidence predictions\u001b[39;00m\n",
      "\u001b[1;31mTypeError\u001b[0m: compute_nrmse() takes 3 positional arguments but 4 were given"
     ]
    }
   ],
   "source": [
    "new_df = pd.read_csv('synthetic_physionet_data.csv', index_col=0)\n",
    "new_data = new_df.to_numpy()\n",
    "\n",
    "new_test_data = scaler.transform(new_data)\n",
    "\n",
    "device = torch.device('cuda' if torch.cuda.is_available() else 'cpu')\n",
    "\n",
    "new_test_tensor = torch.tensor(new_test_data, dtype=torch.float32).to(device)\n",
    "\n",
    "\n",
    "new_results = evaluate_across_mechanisms(model, new_test_tensor, column_indices, missing_fractions)\n",
    "\n",
    "for mechanism, nrmse_values in new_results.items():\n",
    "    print(f\"\\n{mechanism} Results:\")\n",
    "    for frac, nrmse in nrmse_values.items():\n",
    "        print(f\"  Missing Fraction {frac * 100:.0f}%: NRMSE = {nrmse:.4f}\")"
   ]
  },
  {
   "cell_type": "code",
   "execution_count": 44,
   "metadata": {},
   "outputs": [],
   "source": [
    "import matplotlib.pyplot as plt\n",
    "\n",
    "def visualize_imputation_with_confidence(model, test_data, column_indices):\n",
    "    model.eval()\n",
    "    \n",
    "    # Create a mask for 20% of data\n",
    "    mask = create_missing_mask(test_data, missing_fraction=0.2)\n",
    "    input_with_mask = test_data.clone()\n",
    "    input_with_mask[mask == 1] = 0\n",
    "    \n",
    "    with torch.no_grad():\n",
    "        predictions, confidence = model(input_with_mask, column_indices, mask, return_confidence=True)\n",
    "    \n",
    "    # Get a sample for visualization\n",
    "    sample_idx = 0  # or choose any other sample\n",
    "    \n",
    "    plt.figure(figsize=(15, 10))\n",
    "    \n",
    "    # Plot actual values\n",
    "    plt.subplot(3, 1, 1)\n",
    "    plt.plot(test_data[sample_idx].cpu().numpy(), 'b-', label='Actual')\n",
    "    plt.legend()\n",
    "    plt.title('Actual Values')\n",
    "    \n",
    "    # Plot predictions with confidence\n",
    "    plt.subplot(3, 1, 2)\n",
    "    plt.plot(test_data[sample_idx].cpu().numpy(), 'b-', alpha=0.3, label='Actual')\n",
    "    \n",
    "    # Highlight the missing values\n",
    "    missing_indices = torch.where(mask[sample_idx] == 1)[0].cpu().numpy()\n",
    "    actual_values = test_data[sample_idx, missing_indices].cpu().numpy()\n",
    "    predicted_values = predictions[sample_idx, missing_indices].cpu().numpy()\n",
    "    confidence_values = confidence[sample_idx, missing_indices].cpu().numpy()\n",
    "    \n",
    "    # Plot predictions with color based on confidence\n",
    "    for i, idx in enumerate(missing_indices):\n",
    "        plt.scatter(idx, predicted_values[i], c=[confidence_values[i]], cmap='viridis', \n",
    "                   vmin=0, vmax=1, s=100, zorder=3)\n",
    "    \n",
    "    plt.colorbar(label='Confidence')\n",
    "    plt.legend()\n",
    "    plt.title('Predictions with Confidence')\n",
    "    \n",
    "    # Plot error vs confidence\n",
    "    plt.subplot(3, 1, 3)\n",
    "    error = np.abs(actual_values - predicted_values)\n",
    "    plt.scatter(confidence_values, error, alpha=0.7)\n",
    "    plt.xlabel('Confidence')\n",
    "    plt.ylabel('Absolute Error')\n",
    "    plt.title('Error vs Confidence')\n",
    "    \n",
    "    plt.tight_layout()\n",
    "    plt.show()"
   ]
  },
  {
   "cell_type": "code",
   "execution_count": 45,
   "metadata": {},
   "outputs": [
    {
     "name": "stdout",
     "output_type": "stream",
     "text": [
      "Training complete! Visualizing imputation results...\n"
     ]
    },
    {
     "data": {
      "image/png": "[encoded data removed]",
      "text/plain": [
       "<Figure size 1500x1000 with 4 Axes>"
      ]
     },
     "metadata": {},
     "output_type": "display_data"
    }
   ],
   "source": [
    "print(\"Training complete! Visualizing imputation results...\")\n",
    "\n",
    "# Create a missing mask for visualization\n",
    "missing_fraction = 0.2  # Or whatever fraction you want to test with\n",
    "test_mask = create_missing_mask(test_tensor, missing_fraction)\n",
    "\n",
    "# Set model to evaluation mode\n",
    "model.eval()\n",
    "\n",
    "# Call the visualization function\n",
    "visualize_imputation_with_confidence(model, test_tensor, column_indices)"
   ]
  },
  {
   "cell_type": "code",
   "execution_count": null,
   "metadata": {},
   "outputs": [],
   "source": []
  }
 ],
 "metadata": {
  "kernelspec": {
   "display_name": "Python 3",
   "language": "python",
   "name": "python3"
  },
  "language_info": {
   "codemirror_mode": {
    "name": "ipython",
    "version": 3
   },
   "file_extension": ".py",
   "mimetype": "text/x-python",
   "name": "python",
   "nbconvert_exporter": "python",
   "pygments_lexer": "ipython3",
   "version": "3.13.2"
  }
 },
 "nbformat": 4,
 "nbformat_minor": 2
}
