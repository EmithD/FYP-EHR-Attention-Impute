{
 "cells": [
  {
   "cell_type": "code",
   "execution_count": null,
   "metadata": {},
   "outputs": [],
   "source": [
    "import pandas as pd\n",
    "import torch\n",
    "\n",
    "# Function to load the model\n",
    "def load_model(model_path, num_features, d_model=64, num_heads=4, num_layers=2):\n",
    "    \"\"\"\n",
    "    Load a trained Transformer model from a saved state.\n",
    "\n",
    "    Args:\n",
    "        model_path (str): Path to the saved model state dictionary.\n",
    "        num_features (int): Number of features in the dataset.\n",
    "        d_model (int): Dimension of embeddings.\n",
    "        num_heads (int): Number of attention heads.\n",
    "        num_layers (int): Number of Transformer layers.\n",
    "\n",
    "    Returns:\n",
    "        nn.Module: Loaded model.\n",
    "    \"\"\"\n",
    "    # Recreate the model architecture\n",
    "    model = TabularTransformer(num_features=num_features, d_model=d_model, num_heads=num_heads, num_layers=num_layers)\n",
    "    # Load the state dictionary\n",
    "    model.load_state_dict(torch.load(model_path, map_location=device))\n",
    "    # Move model to the appropriate device\n",
    "    model = model.to(device)\n",
    "    model.eval()\n",
    "    return model"
   ]
  }
 ],
 "metadata": {
  "kernelspec": {
   "display_name": "base",
   "language": "python",
   "name": "python3"
  },
  "language_info": {
   "name": "python",
   "version": "3.12.4"
  }
 },
 "nbformat": 4,
 "nbformat_minor": 2
}
